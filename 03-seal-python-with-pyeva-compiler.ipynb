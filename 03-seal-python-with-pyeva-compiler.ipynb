{
 "cells": [
  {
   "cell_type": "markdown",
   "id": "8309ee2a",
   "metadata": {},
   "source": [
    "# Microsoft SEAL : Programming with PyEva (EVA compiler)\n",
    "\n",
    "In this example, I compute the following formula, in which $ x $ is encrypted by homomorphic encryption (HE) library, Microsoft SEAL.<br>\n",
    "Here I use EVA compiler (and PyEva) to simplify programming. Please compare with [previous exercise](./02-seal-python-ckks-with-c-wrapper.ipynb) to see how it simplifies.\n",
    "\n",
    "$ 3.14159265 x^3 + 0.5 $\n",
    "\n",
    "for $ x=0.0, 1.1, 2.2, 3.3 $\n",
    "\n",
    "Before starting, please install and set up software as follows.<br>\n",
    "(Here I used **Ubuntu 20.04 LTS** in Microsoft Azure.)\n",
    "\n",
    "```\n",
    "# Install dependencies\n",
    "sudo apt-get update\n",
    "sudo apt-get install -y python3-pip\n",
    "sudo -H pip3 install --upgrade pip\n",
    "sudo apt install cmake libboost-all-dev libprotobuf-dev protobuf-compiler\n",
    "# Install CLang\n",
    "sudo apt install clang\n",
    "sudo update-alternatives --install /usr/bin/cc cc /usr/bin/clang 100\n",
    "sudo update-alternatives --install /usr/bin/c++ c++ /usr/bin/clang++ 100\n",
    "# Install Microsoft SEAL version 3.6\n",
    "git clone -b v3.6.4 https://github.com/microsoft/SEAL.git\n",
    "cd SEAL\n",
    "cmake -DSEAL_THROW_ON_TRANSPARENT_CIPHERTEXT=OFF .\n",
    "make -j\n",
    "sudo make install\n",
    "cd ..\n",
    "# Install EVA\n",
    "git clone https://github.com/microsoft/EVA\n",
    "cd EVA\n",
    "git submodule update --init\n",
    "cmake .\n",
    "make -j\n",
    "# Install Python packages\n",
    "python3 -m pip install -e python/\n",
    "pip3 install numpy\n",
    "```\n",
    "\n",
    "*back to [Readme](https://github.com/tsmatz/homomorphic-encryption-microsoft-seal/)*"
   ]
  },
  {
   "cell_type": "code",
   "execution_count": 1,
   "id": "6d561477",
   "metadata": {},
   "outputs": [
    {
     "name": "stderr",
     "output_type": "stream",
     "text": [
      "WARNING: Program specifies vector size 1024 while at least 4096 slots are required for security. This does not affect correctness, as the smaller vector size will be transparently emulated. However, using a vector size up to 4096 would come at no additional cost.\n"
     ]
    }
   ],
   "source": [
    "#\n",
    "# Define and compile program\n",
    "#\n",
    "\n",
    "# Define program\n",
    "from eva import *\n",
    "poly = EvaProgram(\"Polynomial\", vec_size=1024)\n",
    "with poly:\n",
    "    x = Input(\"x\")\n",
    "    Output(\"y\", 3.14159265*x**3 + 0.5)\n",
    "poly.set_output_ranges(30)\n",
    "poly.set_input_scales(30)\n",
    "# Compile program with CKKS scheme\n",
    "from eva.ckks import *\n",
    "compiler = CKKSCompiler()\n",
    "compiled_poly, params, signature = compiler.compile(poly)"
   ]
  },
  {
   "cell_type": "code",
   "execution_count": 2,
   "id": "5c958d93",
   "metadata": {},
   "outputs": [],
   "source": [
    "#\n",
    "# Generate key context\n",
    "#   public context contains : public key, relin key, galois key\n",
    "#   secret context contains : secret key\n",
    "#\n",
    "from eva.seal import *\n",
    "public_ctx, secret_ctx = generate_keys(params)"
   ]
  },
  {
   "cell_type": "code",
   "execution_count": 3,
   "id": "b5b14070",
   "metadata": {},
   "outputs": [],
   "source": [
    "#\n",
    "# Create encryption for x (= 0.0, 1.1, 2.2, 3.3)\n",
    "#\n",
    "inputs = { \"x\": [0.0 for i in range(compiled_poly.vec_size)] }\n",
    "inputs[\"x\"][0] = 0.0\n",
    "inputs[\"x\"][1] = 1.1\n",
    "inputs[\"x\"][2] = 2.2\n",
    "inputs[\"x\"][3] = 3.3\n",
    "encInputs = public_ctx.encrypt(inputs, signature)"
   ]
  },
  {
   "cell_type": "code",
   "execution_count": 4,
   "id": "ce03a35e",
   "metadata": {},
   "outputs": [],
   "source": [
    "#\n",
    "# Execute computation\n",
    "#\n",
    "encOutputs = public_ctx.execute(compiled_poly, encInputs)"
   ]
  },
  {
   "cell_type": "code",
   "execution_count": 5,
   "id": "cf0cedb7",
   "metadata": {},
   "outputs": [
    {
     "name": "stdout",
     "output_type": "stream",
     "text": [
      "********** Result is **********\n",
      "0.5000000000005966\n",
      "4.681459288719608\n",
      "33.951451702453895\n",
      "113.39935418382298\n"
     ]
    }
   ],
   "source": [
    "#\n",
    "# Decrypt results\n",
    "#\n",
    "outputs = secret_ctx.decrypt(encOutputs, signature)\n",
    "print(\"********** Result is **********\")\n",
    "for i in range(4):\n",
    "    print(outputs[\"y\"][i])"
   ]
  },
  {
   "cell_type": "code",
   "execution_count": null,
   "id": "0bce4647",
   "metadata": {},
   "outputs": [],
   "source": []
  }
 ],
 "metadata": {
  "kernelspec": {
   "display_name": "Python 3 (ipykernel)",
   "language": "python",
   "name": "python3"
  },
  "language_info": {
   "codemirror_mode": {
    "name": "ipython",
    "version": 3
   },
   "file_extension": ".py",
   "mimetype": "text/x-python",
   "name": "python",
   "nbconvert_exporter": "python",
   "pygments_lexer": "ipython3",
   "version": "3.8.10"
  }
 },
 "nbformat": 4,
 "nbformat_minor": 5
}
