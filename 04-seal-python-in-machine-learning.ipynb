{
 "cells": [
  {
   "cell_type": "markdown",
   "id": "8309ee2a",
   "metadata": {},
   "source": [
    "# Microsoft SEAL : Homomorphic Encryption (HE) in Machine Learning\n",
    "\n",
    "In this example, we serve inferencing (prediction) for a model trained by regression with Scikit-Learn.<br>\n",
    "The customer will encrypt data (inputs) with homomorphic encryption (HE) library, Microsoft SEAL. The service provider cannot then know the customer's privacy information, but it can perform operation with this data.\n",
    "\n",
    "To set up the required software, see the [previous exercise](./03-seal-python-with-pyeva-compiler.ipynb). (Here I use Microsoft SEAL and EVA compiler in Python.)\n",
    "\n",
    "*back to [Readme](https://github.com/tsmatz/homomorphic-encryption-microsoft-seal/)*"
   ]
  },
  {
   "cell_type": "markdown",
   "id": "441a52ce",
   "metadata": {},
   "source": [
    "## Install additional packages"
   ]
  },
  {
   "cell_type": "code",
   "execution_count": null,
   "id": "9a25edf5",
   "metadata": {},
   "outputs": [],
   "source": [
    "!pip3 install scikit-learn"
   ]
  },
  {
   "cell_type": "markdown",
   "id": "1ba6706e",
   "metadata": {},
   "source": [
    "## Sampling data\n",
    "\n",
    "First, I create sample dataset for machine learning.<br>\n",
    "In this example, I create the following data with noise.\n",
    "\n",
    "$ y = 5.1 x_0 + 2.1 x_1 + 1.5 + \\epsilon $\n",
    "\n",
    "where $ \\epsilon $ is Gaussian noise."
   ]
  },
  {
   "cell_type": "code",
   "execution_count": 1,
   "id": "07c12603",
   "metadata": {},
   "outputs": [],
   "source": [
    "import numpy as np\n",
    "\n",
    "np.random.seed(1000) # For debugging and reproducibility\n",
    "\n",
    "N = 25 * 25\n",
    "\n",
    "x0,x1 = np.mgrid[5.0:5.0 + 0.5 * 25:0.5, 5.0:5.0 + 0.5 * 25:0.5]\n",
    "X = np.vstack((x0.flatten(), x1.flatten())).T\n",
    "\n",
    "y = x0.flatten() * 5.1 + x1.flatten() * 2.1 + 1.5 + np.random.normal(0.0, 2.0, size=N)"
   ]
  },
  {
   "cell_type": "markdown",
   "id": "d7ce953c",
   "metadata": {},
   "source": [
    "## Generate model\n",
    "\n",
    "Now I train a model using previous sample dataset. (See [here](https://tsmatz.wordpress.com/2017/08/30/regression-in-machine-learning-math-for-beginners/) for linear regression.)"
   ]
  },
  {
   "cell_type": "code",
   "execution_count": 2,
   "id": "373ce537",
   "metadata": {},
   "outputs": [],
   "source": [
    "from sklearn.linear_model import LinearRegression\n",
    "\n",
    "reg = LinearRegression().fit(X, y)"
   ]
  },
  {
   "cell_type": "markdown",
   "id": "76c420c1",
   "metadata": {},
   "source": [
    "The trained model will have the following parameters (coefficients)."
   ]
  },
  {
   "cell_type": "code",
   "execution_count": 3,
   "id": "8999731c",
   "metadata": {},
   "outputs": [
    {
     "data": {
      "text/plain": [
       "array([5.14201748, 2.07951243])"
      ]
     },
     "execution_count": 3,
     "metadata": {},
     "output_type": "execute_result"
    }
   ],
   "source": [
    "reg.coef_"
   ]
  },
  {
   "cell_type": "code",
   "execution_count": 4,
   "id": "a21db22f",
   "metadata": {},
   "outputs": [
    {
     "data": {
      "text/plain": [
       "1.271811188192629"
      ]
     },
     "execution_count": 4,
     "metadata": {},
     "output_type": "execute_result"
    }
   ],
   "source": [
    "reg.intercept_"
   ]
  },
  {
   "cell_type": "markdown",
   "id": "dd31d192",
   "metadata": {},
   "source": [
    "## Generate predictor for encryption\n",
    "\n",
    "With Microsoft SEAL, now I generate the compiled polynomial $ y = b_0 x_0 + b_1 x_1 + b_2 $ for prediction, where $ b_0, b_1, b_2 $ are trained parameters."
   ]
  },
  {
   "cell_type": "code",
   "execution_count": 5,
   "id": "d7c75919",
   "metadata": {},
   "outputs": [
    {
     "name": "stderr",
     "output_type": "stream",
     "text": [
      "WARNING: Program specifies vector size 1024 while at least 4096 slots are required for security. This does not affect correctness, as the smaller vector size will be transparently emulated. However, using a vector size up to 4096 would come at no additional cost.\n"
     ]
    }
   ],
   "source": [
    "# Define program\n",
    "from eva import *\n",
    "poly = EvaProgram(\"Polynomial\", vec_size=1024)\n",
    "with poly:\n",
    "    x0 = Input(\"x0\")\n",
    "    x1 = Input(\"x1\")\n",
    "    Output(\"y\", reg.coef_[0]*x0 + reg.coef_[1]*x1 + reg.intercept_)\n",
    "poly.set_output_ranges(30)\n",
    "poly.set_input_scales(30)\n",
    "# Compile program with CKKS scheme\n",
    "from eva.ckks import *\n",
    "compiler = CKKSCompiler()\n",
    "compiled_poly, params, signature = compiler.compile(poly)"
   ]
  },
  {
   "cell_type": "markdown",
   "id": "88680037",
   "metadata": {},
   "source": [
    "The ```params``` object (```CKKSParameters```) holds polyModulusDegree, primeBits (list of number of bits each prime should have), and rotation (list of steps for generating galois key).<br>\n",
    "You can save and serialize this ```params``` for sharing.\n",
    "\n",
    "> Note : See [here](./02-seal-python-ckks-with-c-wrapper.ipynb) for details about polyModulusDegree and primeBits."
   ]
  },
  {
   "cell_type": "code",
   "execution_count": 6,
   "id": "39c140e4",
   "metadata": {},
   "outputs": [],
   "source": [
    "from eva import save, load\n",
    "save(params, 'poly.evaparams')"
   ]
  },
  {
   "cell_type": "markdown",
   "id": "ef688dc9",
   "metadata": {},
   "source": [
    "## Generate keys\n",
    "\n",
    "Here I create public key, secret key, relin key, and galois key.<br>\n",
    "The generated public context (which holds public key, relin key, and galois key) can be serialized and shared as follows.<br>\n",
    "(On contrary, the secret context can be hold on only customer and should not be shared.)"
   ]
  },
  {
   "cell_type": "code",
   "execution_count": 7,
   "id": "bf543361",
   "metadata": {},
   "outputs": [],
   "source": [
    "# Generate key context\n",
    "from eva.seal import *\n",
    "params = load('poly.evaparams')\n",
    "public_ctx, secret_ctx = generate_keys(params)\n",
    "# Save public context\n",
    "save(public_ctx, 'poly.sealpublic')"
   ]
  },
  {
   "cell_type": "markdown",
   "id": "e864aca2",
   "metadata": {},
   "source": [
    "## Generate encrypted input\n",
    "\n",
    "Now the customer (client) will generate encrypted inputs with public key.<br>\n",
    "Here I set 3 inputs, $ (x_0, x_1) = (1.1, 1.1), (2.2, 2.2), (3.3, 3.3) $."
   ]
  },
  {
   "cell_type": "code",
   "execution_count": 8,
   "id": "e10da9b4",
   "metadata": {},
   "outputs": [],
   "source": [
    "# Create encryption for x0 and x1\n",
    "inputs = { \"x0\": [0.0 for i in range(compiled_poly.vec_size)], \"x1\": [0.0 for i in range(compiled_poly.vec_size)] }\n",
    "inputs[\"x0\"][0] = 1.1\n",
    "inputs[\"x0\"][1] = 2.2\n",
    "inputs[\"x0\"][2] = 3.3\n",
    "inputs[\"x1\"][0] = 1.1\n",
    "inputs[\"x1\"][1] = 2.2\n",
    "inputs[\"x1\"][2] = 3.3\n",
    "public_ctx = load('poly.sealpublic')\n",
    "encInputs = public_ctx.encrypt(inputs, signature)\n",
    "# Save (serialize) encrypted byte to file\n",
    "from eva import save\n",
    "save(encInputs, 'poly_inputs.sealvals')"
   ]
  },
  {
   "cell_type": "markdown",
   "id": "0b09f03b",
   "metadata": {},
   "source": [
    "## Execute computation\n",
    "\n",
    "On service side, execute computation with shared public context (which include relin key)."
   ]
  },
  {
   "cell_type": "code",
   "execution_count": 9,
   "id": "47cc4f69",
   "metadata": {},
   "outputs": [],
   "source": [
    "# Compute with homomorphic encryption (HE)\n",
    "public_ctx = load('poly.sealpublic')\n",
    "encOutputs = public_ctx.execute(compiled_poly, encInputs)\n",
    "# Serialize results\n",
    "save(encOutputs, 'poly_outputs.sealvals')"
   ]
  },
  {
   "cell_type": "markdown",
   "id": "34676a53",
   "metadata": {},
   "source": [
    "## Decrypt results\n",
    "\n",
    "The customer can decrypt results with his secret key. (Only this customer can see the inputs and results.)"
   ]
  },
  {
   "cell_type": "code",
   "execution_count": 10,
   "id": "54d1b4a3",
   "metadata": {},
   "outputs": [
    {
     "name": "stdout",
     "output_type": "stream",
     "text": [
      "********** Result is **********\n",
      "9.21549823384632\n",
      "17.159159768683594\n",
      "25.102852135244238\n"
     ]
    }
   ],
   "source": [
    "encOutputs = load('poly_outputs.sealvals')\n",
    "outputs = secret_ctx.decrypt(encOutputs, signature)\n",
    "print(\"********** Result is **********\")\n",
    "for i in range(3):\n",
    "    print(outputs[\"y\"][i])\n",
    "# Actual result is 5.1*x0 + 2.1*x1 + 0.5"
   ]
  },
  {
   "cell_type": "code",
   "execution_count": null,
   "id": "0bce4647",
   "metadata": {},
   "outputs": [],
   "source": []
  }
 ],
 "metadata": {
  "kernelspec": {
   "display_name": "Python 3 (ipykernel)",
   "language": "python",
   "name": "python3"
  },
  "language_info": {
   "codemirror_mode": {
    "name": "ipython",
    "version": 3
   },
   "file_extension": ".py",
   "mimetype": "text/x-python",
   "name": "python",
   "nbconvert_exporter": "python",
   "pygments_lexer": "ipython3",
   "version": "3.8.10"
  }
 },
 "nbformat": 4,
 "nbformat_minor": 5
}
